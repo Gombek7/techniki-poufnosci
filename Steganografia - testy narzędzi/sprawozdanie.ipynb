{
 "cells": [
  {
   "cell_type": "markdown",
   "metadata": {},
   "source": [
    "# Steganografia - testy narzędzi\n",
    "Najnowsza wersja sprawozdania jest dostępna pod adresem: [https://github.com/Gombek7/techniki-poufnosci/blob/main/Steganografia - testy narzędzi/sprawozdanie.md](https://github.com/Gombek7/techniki-poufnosci/blob/main/Steganografia%20-%20testy%20narz%C4%99dzi/sprawozdanie.md)\n",
    "\n",
    "Członkowie zespołu:\n",
    "- Jarosław Dakowicz\n",
    "- Piotr Kozioł\n",
    "- Anton Maisiuk\n",
    "\n",
    "## Instalacja środowiska\n",
    "\n",
    "Sprawozdanie zostało napisane w notatniku Jupyter z użyciem jądra Deno, które pozwala na wykonywanie kodu w języku TypeScript zamiast w Pythonie.\n",
    "\n",
    "Najpierw neleży zainstalować Deno. Należy uruchomić poniższą komendę w powershell.\n",
    "\n",
    "```powershell\n",
    "irm https://deno.land/install.ps1 | iex\n",
    "```\n",
    "\n",
    "Następnie, aby zainstalować jądro, należy użyć poniższej komendy.\n",
    "```powershell\n",
    "deno jupyter --install\n",
    "```\n",
    "\n",
    "Od teraz podczas edycji notatnika Jupyter w Visual Studio Code można wybrać jądro Deno.\n",
    "\n",
    "## Zadanie 1 - Ocena narzędzi steganograficznych \n",
    "\n",
    "Na podstawie listy ze strony [Wikipedii](https://en.wikipedia.org/wiki/Steganography_tools) wybierz 5 narzędzi steganograficznych i dokonaj ich oceny (badań):\n",
    "- porównaj szybkość działania dla tego samego pliku,\n",
    "- jeżeli to możliwe, to oceń ilość/jakość zmian pliku źródłowego.\n"
   ]
  },
  {
   "cell_type": "markdown",
   "metadata": {},
   "source": [
    "## Zadanie 2 - Własny system steganograficzny\n",
    "\n",
    "Wykonaj prosty system steganograficzny plików graficznych BMP polegający na osadzaniu w najmniej znaczących bitach danego stegotekstu:\n",
    "- ilość bitów ma być zmienna, od 1 do 4,\n",
    "- dokonaj oceny wizualnej głębokości zmian pliku źródłowego w zależności od ilości bitów modyfikowanych."
   ]
  }
 ],
 "metadata": {
  "kernelspec": {
   "display_name": "Deno",
   "language": "typescript",
   "name": "deno"
  },
  "language_info": {
   "codemirror_mode": "typescript",
   "file_extension": ".ts",
   "mimetype": "text/x.typescript",
   "name": "typescript",
   "nbconvert_exporter": "script",
   "pygments_lexer": "typescript",
   "version": "5.5.2"
  }
 },
 "nbformat": 4,
 "nbformat_minor": 2
}
