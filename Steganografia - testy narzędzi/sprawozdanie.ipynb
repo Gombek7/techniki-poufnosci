{
 "cells": [
  {
   "cell_type": "markdown",
   "metadata": {},
   "source": [
    "# Steganografia - testy narzędzi\n",
    "Najnowsza wersja sprawozdania jest dostępna pod adresem: [https://github.com/Gombek7/techniki-poufnosci/blob/main/Steganografia%20-%20testy%20narz%C4%99dzi/sprawozdanie.ipynb](https://github.com/Gombek7/techniki-poufnosci/blob/main/Steganografia%20-%20testy%20narz%C4%99dzi/sprawozdanie.ipynb)\n",
    "\n",
    "Członkowie zespołu:\n",
    "- Jarosław Dakowicz\n",
    "- Piotr Kozioł\n",
    "- Anton Maisiuk\n",
    "\n",
    "## Instalacja środowiska\n",
    "\n",
    "Sprawozdanie zostało napisane w notatniku Jupyter z użyciem jądra Deno, które pozwala na wykonywanie kodu w języku TypeScript zamiast w Pythonie.\n",
    "\n",
    "Najpierw neleży zainstalować Deno. Należy uruchomić poniższą komendę w powershell.\n",
    "\n",
    "```powershell\n",
    "irm https://deno.land/install.ps1 | iex\n",
    "```\n",
    "\n",
    "Następnie, aby zainstalować jądro, należy użyć poniższej komendy.\n",
    "```powershell\n",
    "deno jupyter --install\n",
    "```\n",
    "\n",
    "Od teraz podczas edycji notatnika Jupyter w Visual Studio Code można wybrać jądro Deno.\n",
    "\n",
    "## Zadanie 1 - Ocena narzędzi steganograficznych \n",
    "\n",
    "Na podstawie listy ze strony [Wikipedii](https://en.wikipedia.org/wiki/Steganography_tools) wybierz 5 narzędzi steganograficznych i dokonaj ich oceny (badań):\n",
    "- porównaj szybkość działania dla tego samego pliku,\n",
    "- jeżeli to możliwe, to oceń ilość/jakość zmian pliku źródłowego.\n"
   ]
  },
  {
   "cell_type": "markdown",
   "metadata": {},
   "source": [
    "## Zadanie 2 - Własny system steganograficzny\n",
    "\n",
    "Wykonaj prosty system steganograficzny plików graficznych BMP polegający na osadzaniu w najmniej znaczących bitach danego stegotekstu:\n",
    "- ilość bitów ma być zmienna, od 1 do 4,\n",
    "- dokonaj oceny wizualnej głębokości zmian pliku źródłowego w zależności od ilości bitów modyfikowanych."
   ]
  },
  {
   "cell_type": "markdown",
   "metadata": {},
   "source": [
    "Najpierw została zadeklarowana funkcja pomocnicza `getBitsIterator` zwracająca iterator, który ułatwia przeglądanie tablicy bajtów po wybranej ilości bitów (1-4). Funkcjonalność ta ułatwi podizelenie danych na małe fragmenty, które zostaną osadzone w najmniej znaczących częściach bajtów."
   ]
  },
  {
   "cell_type": "code",
   "execution_count": 54,
   "metadata": {},
   "outputs": [],
   "source": [
    "function* getBitsIterator(bytes: Uint8Array, bits: 1 | 2 | 3 | 4) {\n",
    "    switch (bits) {\n",
    "        case 1:\n",
    "            for (const byte of bytes) {\n",
    "                yield (byte & 0b10000000) >> 7;\n",
    "                yield (byte & 0b01000000) >> 6;\n",
    "                yield (byte & 0b00100000) >> 5;\n",
    "                yield (byte & 0b00010000) >> 4;\n",
    "                yield (byte & 0b00001000) >> 3;\n",
    "                yield (byte & 0b00000100) >> 2;\n",
    "                yield (byte & 0b00000010) >> 1;\n",
    "                yield (byte & 0b00000001);\n",
    "            }\n",
    "            break;\n",
    "        case 2:\n",
    "            for (const byte of bytes) {\n",
    "                yield (byte & 0b11000000) >> 6;\n",
    "                yield (byte & 0b00110000) >> 4;\n",
    "                yield (byte & 0b00001100) >> 2;\n",
    "                yield (byte & 0b00000011);\n",
    "            }\n",
    "            break;\n",
    "        case 3:\n",
    "            {\n",
    "                // Holds the current bits buffer\n",
    "                let buffer = 0; \n",
    "                 // Number of bits available in the buffer\n",
    "                let bufferLength = 0;\n",
    "\n",
    "                for (const byte of bytes) {\n",
    "                    // Add new byte to the buffer\n",
    "                    buffer = (buffer << 8) | byte;\n",
    "                    bufferLength += 8;\n",
    "\n",
    "                    // Emit chunks as long as we can get 3 bits\n",
    "                    while (bufferLength >= 3) {\n",
    "                        yield (buffer >> (bufferLength - 3)) & 0b111; \n",
    "                        bufferLength -= 3;\n",
    "                    }\n",
    "                }\n",
    "\n",
    "                // Handle leftover bits (if any) by padding with zeros\n",
    "                if (bufferLength > 0) {\n",
    "                    yield (buffer << (3 - bufferLength)) & 0b111; // Pad with zeros\n",
    "                }\n",
    "            }\n",
    "            break;\n",
    "        case 4:\n",
    "            for (const byte of bytes) {\n",
    "                yield (byte & 0b11110000) >> 4;\n",
    "                yield (byte & 0b00001111);\n",
    "            }\n",
    "            break;\n",
    "    }\n",
    "}"
   ]
  },
  {
   "cell_type": "markdown",
   "metadata": {},
   "source": [
    "Następnie została zadeklarowana funkcja `embedText`. Przyjmuje ona bufor zawierający zawartość pliku wejściowego, tekst do osadzenia oraz liczbę bitów na bajt, w których zostanie osadzony tekst. Program wykorzystuje bibliotekę `bmp-js`. Do dekodowania i enkodowania obrazów w formacie `bmp`. Koniec tekstu jest oznaczany symbolem specjalnym `\\0`."
   ]
  },
  {
   "cell_type": "code",
   "execution_count": 55,
   "metadata": {},
   "outputs": [],
   "source": [
    "//@deno-types=\"npm:@types/bmp-js\"\n",
    "import { decode, encode } from \"npm:bmp-js\";\n",
    "import type { Buffer } from \"node:buffer\";\n",
    "\n",
    "function embedText(inputFile: Buffer, text: string, bits: 1 | 2 | 3 | 4) {\n",
    "    // decode bmp data\n",
    "    const bmpData = decode(inputFile);\n",
    "    // encode text to binary using 'utf-8'\n",
    "    const textEncoder = new TextEncoder();\n",
    "    const textBytes = textEncoder.encode(text + \"\\0\");\n",
    "    // create bits iterator for easier splitting into chunks\n",
    "    const bitsIterator = getBitsIterator(\n",
    "        textBytes,\n",
    "        bits,\n",
    "    );\n",
    "    let i = 0;\n",
    "    const mask = 255 << bits;\n",
    "    for (const chunk of bitsIterator) {\n",
    "        // don't write to alpha channel\n",
    "        if (!(i % 4)) i++;\n",
    "        // save chunk into least significant bits\n",
    "        bmpData.data[i] = (bmpData.data[i] & mask) | chunk;\n",
    "        i++;\n",
    "    }\n",
    "    // endode bmp data back \n",
    "    return encode(bmpData);\n",
    "}"
   ]
  },
  {
   "cell_type": "markdown",
   "metadata": {},
   "source": [
    "Funkcja `readEmbeddedText` działa analogicznie. Odczytuje tekst osadzony w pliku. Funkcja odczytuje tekst aż do natrafienia na specjalny symbol kończący `\\0`. Jest on usuwany z końcowego wyniku."
   ]
  },
  {
   "cell_type": "code",
   "execution_count": null,
   "metadata": {},
   "outputs": [],
   "source": [
    "function readEmbeddedText(inputFile: Buffer, bits: 1 | 2 | 3 | 4) {\n",
    "    // decode bmp data\n",
    "    const bmpData = decode(inputFile);\n",
    "    // declare mask for reading only bits with embedded data\n",
    "    const mask = 255 >> (8 - bits);\n",
    "\n",
    "    const readBytes: number[] = [];\n",
    "    let chunkBuffer = 0;\n",
    "    let chunkBufferLength = 0;\n",
    "    let i = -1;\n",
    "    for (const byte of bmpData.data) {\n",
    "        // don't read from alpha channel\n",
    "        if (!(++i % 4)) continue;\n",
    "        // read embedded data from byte\n",
    "        const chunk = byte & mask;\n",
    "        // save read data to buffer\n",
    "        chunkBuffer = chunkBuffer << bits;\n",
    "        chunkBuffer = chunkBuffer | chunk;\n",
    "        chunkBufferLength += bits;\n",
    "\n",
    "        // if there is already full byte in buffer\n",
    "        if (chunkBufferLength >= 8) {\n",
    "            //get full byte\n",
    "            const overflowBits = chunkBufferLength - 8;\n",
    "            const fullByte = chunkBuffer >> overflowBits;\n",
    "\n",
    "            //left in buffer only overflowed bits\n",
    "            chunkBuffer &= 255 >> (8 - overflowBits);\n",
    "            chunkBufferLength = overflowBits;\n",
    "\n",
    "            //write fullbyte to result array\n",
    "            readBytes.push(fullByte);\n",
    "\n",
    "            // end if read character is '/0'\n",
    "            if (fullByte === 0) {\n",
    "                break;\n",
    "            }\n",
    "        }\n",
    "    }\n",
    "\n",
    "    // decode text from binary utf-8 and remove end character\n",
    "    const textDecoder = new TextDecoder();\n",
    "    return textDecoder.decode(new Uint8Array(readBytes)).slice(0, -1);\n",
    "}"
   ]
  },
  {
   "cell_type": "markdown",
   "metadata": {},
   "source": [
    "Do przetestowania programu posłuży zdjęcie kota, w którym zostanie osadzony krótki tekst. Wyniki prezentuje poniższa tabela."
   ]
  },
  {
   "cell_type": "code",
   "execution_count": null,
   "metadata": {},
   "outputs": [
    {
     "data": {
      "text/markdown": [
       "\n",
       "|Tekst wejściowy| To jest pewien tekst zakodowany w obrazie. Czy widać jakąś różnicę? |\n",
       "|-|-|\n",
       "|Obraz wejściowy| ![](cat.bmp) |\n",
       "|Obraz z osadzonym tekstem|  ![](catModified.bmp) |\n",
       "|Odczytany tekst| To jest pewien tekst zakodowany w obrazie. Czy widać jakąś różnicę? |\n"
      ]
     },
     "metadata": {},
     "output_type": "display_data"
    }
   ],
   "source": [
    "import fs from \"node:fs\";\n",
    "\n",
    "const bmpBuffer = fs.readFileSync(\"cat.bmp\");\n",
    "const inputText = \"To jest pewien tekst zakodowany w obrazie. Czy widać jakąś różnicę?\"\n",
    "const bmpModified = embedText(\n",
    "    bmpBuffer,\n",
    "    inputText,\n",
    "    3,\n",
    ");\n",
    "\n",
    "fs.writeFileSync(\"catModified.bmp\", bmpModified.data);\n",
    "const readFile = fs.readFileSync(\"catModified.bmp\");\n",
    "const readText = readEmbeddedText(readFile, 3);\n",
    "\n",
    "Deno.jupyter.md`\n",
    "|Tekst wejściowy| ${inputText} |\n",
    "|-|-|\n",
    "|Obraz wejściowy| ![](cat.bmp) |\n",
    "|Obraz z osadzonym tekstem|  ![](catModified.bmp) |\n",
    "|Odczytany tekst| ${readText} |\n",
    "`\n"
   ]
  },
  {
   "cell_type": "markdown",
   "metadata": {},
   "source": [
    "Do wizualnego porównania zdjęcia dla różnych długości bitów będzie potrzebny dłuższy tekst. W tym celu pobrany został skrypt filmu pod tytułem \"Film o pszczołach\"."
   ]
  },
  {
   "cell_type": "code",
   "execution_count": null,
   "metadata": {},
   "outputs": [
    {
     "data": {
      "text/plain": [
       "\u001b[32m\"According to all known laws of aviation, there is no way a bee should be able to fly.\\n\"\u001b[39m +\n",
       "  \u001b[32m\"Its wings are (...)\"\u001b[39m"
      ]
     },
     "metadata": {},
     "output_type": "display_data"
    }
   ],
   "source": [
    "const beeMovieScript = await fetch(\"https://gist.githubusercontent.com/MattIPv4/045239bc27b16b2bcf7a3a9a4648c08a/raw/2411e31293a35f3e565f61e7490a806d4720ea7e/bee%2520movie%2520script\").then(r => r.text())\n",
    "beeMovieScript.substring(0, 100) + \"(...)\";"
   ]
  },
  {
   "cell_type": "markdown",
   "metadata": {},
   "source": [
    "Tekst zostanie zapisany w obrazie dla długości 1, 2, 3 i 4 bitów. Wyniki zostaną wyświetlione w tabeli."
   ]
  },
  {
   "cell_type": "code",
   "execution_count": null,
   "metadata": {},
   "outputs": [
    {
     "data": {
      "text/markdown": [
       "\n",
       "|Obraz wejściowy| ![](cat.bmp) |\n",
       "|-|-|\n",
       "|1 bit| ![](cat1.bmp) |\n",
       "|2 bity| ![](cat2.bmp) |\n",
       "|3 bity| ![](cat3.bmp) |\n",
       "|4 bity| ![](cat4.bmp) |\n"
      ]
     },
     "metadata": {},
     "output_type": "display_data"
    }
   ],
   "source": [
    "const bmpOriginalBuffer = fs.readFileSync(\"cat.bmp\");\n",
    "for (let i = 1; i <=4; i++) {\n",
    "    const bmpModified = embedText( bmpOriginalBuffer, beeMovieScript, i);\n",
    "    fs.writeFileSync(`cat${i}.bmp`, bmpModified.data);\n",
    "}\n",
    "\n",
    "Deno.jupyter.md`\n",
    "|Obraz wejściowy| ![](cat.bmp) |\n",
    "|-|-|\n",
    "|1 bit| ![](cat1.bmp) |\n",
    "|2 bity| ![](cat2.bmp) |\n",
    "|3 bity| ![](cat3.bmp) |\n",
    "|4 bity| ![](cat4.bmp) |\n",
    "`"
   ]
  },
  {
   "cell_type": "markdown",
   "metadata": {},
   "source": [
    "Ocena wizualna:\n",
    "- Dla 1 bitu różnica jest niedostrzealna gołym okiem. Różnica między kolorem oryginalnym to zaledwie 0.4% (dla każdego kanału).\n",
    "- Dla 2 bitów wprawne oko po przybliżeniu może dostrzec, że pojawił się charakterystyczny szum.\n",
    "- Dla 3 bitów szum ten jest już dobrze widoczny, zwłaszcza na fragmentach obrazu o jednolitym kolorze. W tym przypadku na niebie i powierzchni po prawej stronie obrazu.\n",
    "- Dla 4 bitów szum ten jest jescze bardziej widoczny. Widać teraz także wyraźnie granicę, gdzie zakodowane dane się skończyły. W celu zmniejszenia podejrzeń o istnieniu osadzonych danych, warto jest zakodować tekst na całej powierzchni obrazu."
   ]
  }
 ],
 "metadata": {
  "kernelspec": {
   "display_name": "Deno",
   "language": "typescript",
   "name": "deno"
  },
  "language_info": {
   "codemirror_mode": "typescript",
   "file_extension": ".ts",
   "mimetype": "text/x.typescript",
   "name": "typescript",
   "nbconvert_exporter": "script",
   "pygments_lexer": "typescript",
   "version": "5.6.2"
  }
 },
 "nbformat": 4,
 "nbformat_minor": 2
}
