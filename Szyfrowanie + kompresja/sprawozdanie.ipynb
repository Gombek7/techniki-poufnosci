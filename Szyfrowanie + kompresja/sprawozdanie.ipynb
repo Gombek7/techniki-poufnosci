{
 "cells": [
  {
   "cell_type": "markdown",
   "metadata": {},
   "source": [
    "# Szyfrowanie + kompresja\n",
    "Najnowsza wersja sprawozdania jest dostępna pod adresem: [https://github.com/Gombek7/techniki-poufnosci/blob/main/Konfiguracja tunelu VPN/sprawozdanie.md](https://github.com/Gombek7/techniki-poufnosci/blob/main/Konfiguracja%20tunelu%20VPN/sprawozdanie.md)\n",
    "\n",
    "Członkowie zespołu:\n",
    "- Jarosław Dakowicz\n",
    "- Piotr Kozioł\n",
    "\n",
    "## Instalacja środowiska\n",
    "\n",
    "Sprawozdanie zostało napisane w notatniku Jupyter z użyciem jądra Deno, które pozwala na wykonywanie kodu w języku TypeScript zamiast w Pythonie.\n",
    "\n",
    "Najpierw neleży zainstalować Deno. Należy uruchomić poniższą komendę w powershell.\n",
    "\n",
    "```powershell\n",
    "irm https://deno.land/install.ps1 | iex\n",
    "```\n",
    "\n",
    "Następnie, aby zainstalować jądro, należy użyć poniższej komendy.\n",
    "```powershell\n",
    "deno jupyter --install\n",
    "```\n",
    "\n",
    "Od teraz podczas edycji notatnika Jupyter w Visual Studio Code można wybrać jądro Deno.\n",
    "\n",
    "## Zadanie 1 - własny algrytm szyfrowania/deszyfrowania\n",
    "\n",
    "Wybrany algorytm to szyfr Cezara.\n",
    "\n",
    "### Szyfrator i deszyfrator\n",
    "\n",
    "Najpierw został zdefiniowany alfabet, czyli zestaw znaków obsługiwanych przez nasz algorytm."
   ]
  },
  {
   "cell_type": "code",
   "execution_count": 9,
   "metadata": {},
   "outputs": [],
   "source": [
    "const ALPHABET = \"AĄBCĆDEĘFGHIJKLŁMNŃOÓPRSŚTUVWXYZŹŻaąbcćdeęfghijklłmnńoóprsśtuvwxyzźż\\b\\t\\n\\f\\r !\\\"%'()*+,-.:?\"\n",
    "// const ALPHABET = \"AĄBCĆDEĘFGHIJKLŁMNŃOÓPRSŚTUVWXYZŹŻaąbcćdeęfghijklłmnńoóprsśtuvwxyzźż\\b\\t\\n\\f\\r !\\\"#$%&'()*+,-./0123456789:;<=>?@[\\\\]^`{|}~\""
   ]
  },
  {
   "cell_type": "markdown",
   "metadata": {},
   "source": [
    "Następnie została napisana funkcja szyfrująca `encrypt`."
   ]
  },
  {
   "cell_type": "code",
   "execution_count": 10,
   "metadata": {},
   "outputs": [],
   "source": [
    "function encrypt(input: string, key: number): string\n",
    "{\n",
    "    const output: string[] = [];\n",
    "    const n = ALPHABET.length; //liczba znaków w alfabecie\n",
    "    for (const char of input) {\n",
    "        const a = ALPHABET.indexOf(char); //indeks znaku do zaszyfrowania\n",
    "        const c = (a + key) % n ;         //indeks zaszyfrowanego znaku\n",
    "        output.push(ALPHABET[c]) ;        //zamiana indeksu na znak i wpisanie do wyjścia\n",
    "    }\n",
    "    return output.join(\"\");\n",
    "}"
   ]
  },
  {
   "cell_type": "markdown",
   "metadata": {},
   "source": [
    "Funkcja deszyfrująca `decrypt` jest podobna, z tą różnicą, że klucz jest odejmowany od indeksu znaku."
   ]
  },
  {
   "cell_type": "code",
   "execution_count": 63,
   "metadata": {},
   "outputs": [],
   "source": [
    "function decrypt(input: string, key: number):string\n",
    "{\n",
    "    const output: string[] = []\n",
    "    const n = ALPHABET.length //liczba znaków w alfabecie\n",
    "    for(const letter of input)\n",
    "    {\n",
    "        const c = ALPHABET.indexOf(letter) //indeks zaszyfrowanego znaku\n",
    "        const a = (c + n - key) % n        //indeks odszyfrowanego znaku\n",
    "        output.push(ALPHABET.at(a))        //zamiana indeksu na znak i wpisanie do wyjścia\n",
    "    }\n",
    "    return output.join(\"\")\n",
    "}"
   ]
  },
  {
   "cell_type": "markdown",
   "metadata": {},
   "source": [
    "Poniżej znajduje się krótki test szyfru. Podany tekst jest zaszyfrowywany losowym kluczem. Następnie odszyfrowywany prawidłowym i nieprawidłowym kluczem."
   ]
  },
  {
   "cell_type": "code",
   "execution_count": 89,
   "metadata": {},
   "outputs": [
    {
     "data": {
      "text/markdown": [
       "| **Tekst oryginalny** | Hello! This is the input! |\n",
       "| --- | --- |\n",
       "| Prawidłowy klucz | 223 |\n",
       "| Nieprawidłowy klucz | 237 |\n",
       "| **Tekst zaszyfrowany** | **\"CŻęęjżźŃcćmźćmźńcŻźćhlońż\"** |\n",
       "| Tekst odszyfrowany z nieprawidłowym kluczem | {UaadutIYZgtZgtiYUtZcęjiu |\n",
       "| **Tekst odszyfrowany z prawidłowym kluczem** | **Hello! This is the input!** |\n"
      ]
     },
     "execution_count": 89,
     "metadata": {},
     "output_type": "execute_result"
    }
   ],
   "source": [
    "import { randomIntegerBetween } from 'jsr:@std/random';\n",
    "\n",
    "const input = \"Cześć! To jest tekst oryginalny!\";\n",
    "const key = randomIntegerBetween(0, 2 * ALPHABET.length);\n",
    "const invalidKey = key + randomIntegerBetween(1, Math.ceil(ALPHABET.length / 2));\n",
    "\n",
    "const encrypted = encrypt(input, key);\n",
    "const decryptedInvalid = decrypt(encrypted, invalidKey);\n",
    "const decryptedValid = decrypt(encrypted, key);\n",
    "\n",
    "Deno.jupyter.md`| **Tekst oryginalny** | ${input} |\n",
    "| --- | --- |\n",
    "| Prawidłowy klucz | ${key} |\n",
    "| Nieprawidłowy klucz | ${invalidKey} |\n",
    "| **Tekst zaszyfrowany** | **${JSON.stringify(encrypted)}** |\n",
    "| Tekst odszyfrowany z nieprawidłowym kluczem | ${decryptedInvalid} |\n",
    "| **Tekst odszyfrowany z prawidłowym kluczem** | **${decryptedValid}** |\n",
    "`"
   ]
  },
  {
   "cell_type": "markdown",
   "metadata": {},
   "source": [
    "## Łamanie metodą brute force\n",
    "\n",
    "Przypuśćmy, że atakujący zna alfabet, w którym została napisana wiadomość. Może go uzyskać poprzez przechwycenie kilku zaszyfrowanych wiadomości. Atakujący może z łatwością znaleźć wszystkie możliwe odszyfrowane wiadomości, jednak problemem może być rozpoznanie prawidłowej wiadomości. Jednym ze sposobów jest sprawdzenie stopnia dopasowania częstości liter do języka, w którym została napisana wiadomość.\n",
    "\n",
    "Częstości liter w tekście napisanym języku polskim jest nastepująca (źródło: [https://commons.wikimedia.org/wiki/File:Polish_letters_frequencies.svg](https://commons.wikimedia.org/wiki/File:Polish_letters_frequencies.svg)):"
   ]
  },
  {
   "cell_type": "code",
   "execution_count": 98,
   "metadata": {},
   "outputs": [],
   "source": [
    "const letterFrequencies = {\n",
    "    'a': 8.91,\n",
    "    'ą': 0.99,\n",
    "    'b': 1.47,\n",
    "    'c': 3.96,\n",
    "    'ć': 0.40,\n",
    "    'd': 3.25,\n",
    "    'e': 7.66,\n",
    "    'ę': 1.11,\n",
    "    'f': 0.30,\n",
    "    'g': 1.42,\n",
    "    'h': 1.08,\n",
    "    'i': 8.21,\n",
    "    'j': 2.28,\n",
    "    'k': 3.51,\n",
    "    'l': 2.10,\n",
    "    'ł': 1.82,\n",
    "    'm': 2.80,\n",
    "    'n': 5.52,\n",
    "    'ń': 0.20,\n",
    "    'o': 7.75,\n",
    "    'ó': 0.85,\n",
    "    'p': 3.13,\n",
    "    'r': 4.69,\n",
    "    's': 4.32,\n",
    "    'ś': 1.42,\n",
    "    't': 3.98,\n",
    "    'u': 2.50,\n",
    "    'w': 4.65,\n",
    "    'y': 3.76,\n",
    "    'z': 5.64,\n",
    "    'ź': 0.06,\n",
    "    'ż': 0.83\n",
    "  };"
   ]
  },
  {
   "cell_type": "markdown",
   "metadata": {},
   "source": [
    "W kryptoanalizie przydatna będzie funkcja zlicząjąca częstość występowania liter w podanym tekście."
   ]
  },
  {
   "cell_type": "code",
   "execution_count": 157,
   "metadata": {},
   "outputs": [],
   "source": [
    "function getLetterFrequencies(text: string) {\n",
    "    const output: Record<string, number> = {};\n",
    "    for (const letter of text) {\n",
    "        const lowerLetter = letter.toLowerCase();\n",
    "        output[lowerLetter] = output[lowerLetter] ? output[lowerLetter] + 1 : 1;\n",
    "    }\n",
    "    const sum = Object.values(output).reduce((a,b) => a + b, 0);\n",
    "    for (const letter of Object.keys(output)) {\n",
    "        output[letter] = output[letter] * 100 / sum;\n",
    "    }\n",
    "    return output;\n",
    "}"
   ]
  },
  {
   "cell_type": "markdown",
   "metadata": {},
   "source": [
    "Konieczne będzie także znormalizowanie porównywanych częstotliwości tak, aby zawierały te same litery."
   ]
  },
  {
   "cell_type": "code",
   "execution_count": 155,
   "metadata": {},
   "outputs": [],
   "source": [
    "function normalizeFrequencies(frequencies1: Record<string, number>, frequencies2: Record<string, number>) {\n",
    "    const lettersSet1 = new Set(Object.keys(frequencies1));\n",
    "    const lettersSet2 = new Set(Object.keys(frequencies2));\n",
    "    const commonLetters: Set<string> = lettersSet1.intersection(lettersSet2);\n",
    "\n",
    "    let entries1 = Object.entries(frequencies1).filter(([key, value]) => commonLetters.has(key));\n",
    "    const sum1 = entries1.reduce((a, b) => a + b[1], 0);\n",
    "    entries1 = entries1.map(([key, value]) => ([key, value/sum1 * 100]))\n",
    "    const result1 = Object.fromEntries(entries1);\n",
    "\n",
    "    let entries2 = Object.entries(frequencies2).filter(([key, value]) => commonLetters.has(key));\n",
    "    const sum2 = entries2.reduce((a, b) => a + b[1], 0);\n",
    "    entries2 = entries2.map(([key, value]) => ([key, value/sum2 * 100]))\n",
    "    const result2 = Object.fromEntries(entries2);\n",
    "\n",
    "    return [result1, result2];\n",
    "}"
   ]
  },
  {
   "cell_type": "markdown",
   "metadata": {},
   "source": [
    "Do sprawdzenia w jakim stopniu rozkład częstości w próbie odpowiada rozkładowi oczekiwanemu można użyć testu zgodności chi-kwadrat. Im większa różnica, tym większa będzie wartość chi-kwadrat."
   ]
  },
  {
   "cell_type": "code",
   "execution_count": 161,
   "metadata": {},
   "outputs": [
    {
     "data": {
      "text/plain": [
       "\u001b[33m18.992119645432787\u001b[39m"
      ]
     },
     "execution_count": 161,
     "metadata": {},
     "output_type": "execute_result"
    }
   ],
   "source": [
    "function chiSquaredTest(measuredFrequencies: Record<string, number>, expectedFrequencies: Record<string, number>) {\n",
    "    let result = 0;\n",
    "    Object.entries(measuredFrequencies).forEach(([letter, measuredValue]) => {\n",
    "        const expectedValue = expectedFrequencies[letter];\n",
    "        if (expectedValue == undefined) return;\n",
    "        result += (((measuredValue - expectedValue) ** 2) / expectedValue);\n",
    "    })\n",
    "    return result\n",
    "};\n",
    "\n",
    "chiSquaredTest(getLetterFrequencies(\"W kryptoanalizie przydatna będzie funkcja zlicząjąca częstotliwość liter w podanym tekście.\"),letterFrequencies)"
   ]
  },
  {
   "cell_type": "markdown",
   "metadata": {},
   "source": [
    "Teraz mamy wszystko, aby napisać funkcję łamiącą wiadomość metodą brute-force."
   ]
  },
  {
   "cell_type": "code",
   "execution_count": 203,
   "metadata": {},
   "outputs": [],
   "source": [
    "function crackBruteForce(encryptedText: string) {\n",
    "    const t0 = performance.now()\n",
    "\n",
    "    const crackedCandidates: string[] = [];\n",
    "    for( let i=0; i < ALPHABET.length; i++) {\n",
    "        crackedCandidates.push(decrypt(encryptedText, i))\n",
    "    }\n",
    "\n",
    "    const testResults = crackedCandidates.map(cracked => {\n",
    "        const crackedLettersFrequencies = getLetterFrequencies(cracked);\n",
    "        const [normalizedCrackedLettersFrequencies, normalizedLetterFrequencies] = normalizeFrequencies(crackedLettersFrequencies, letterFrequencies);\n",
    "        return chiSquaredTest(normalizedCrackedLettersFrequencies, normalizedLetterFrequencies);\n",
    "    })\n",
    "\n",
    "    let min = testResults[0];\n",
    "    let minIndex = 0;\n",
    "\n",
    "    testResults.forEach((result, index) => {\n",
    "        if (result < min) {\n",
    "            min = result;\n",
    "            minIndex = index;\n",
    "        }\n",
    "    })\n",
    "\n",
    "    const t1 = performance.now()\n",
    "\n",
    "    return {\n",
    "        originalMessage: crackedCandidates[minIndex],\n",
    "        key: minIndex,\n",
    "        testResult: testResults[minIndex],\n",
    "        time: t1 - t0,\n",
    "    }\n",
    "}"
   ]
  },
  {
   "cell_type": "code",
   "execution_count": 206,
   "metadata": {},
   "outputs": [
    {
     "data": {
      "text/plain": [
       "{\n",
       "  originalMessage: \u001b[32m\"Ale muszę wam wytłumaczyć, jak narodziła się ta błędna koncepcja denuncjacji przyjemności i chwalebnego bólu, a ja dam wam kompletną relację z systemu i objaśnię prawdziwe nauki wielkiego odkrywcy prawdy, mistrza-budowniczego ludzkiego szczęścia. Nikt nie odrzuca, nie lubi lub unika przyjemności samej w sobie, ponieważ jest to przyjemność, ale dlatego, że ci, którzy nie wiedzą, jak dążyć do przyjemności, racjonalnie napotykają konsekwencje, które są niezwykle bolesne. I znowu nie ma kogoś, kto kocha lub dąży albo pragnie osiągnąć ból sam z siebie, ponieważ jest to ból, ale czasami pojawiają się okoliczności, w których trud i ból mogą przynieść mu wielką przyjemność. Aby wziąć trywialny przykład, który z nas kiedykolwiek podejmuje żmudne ćwiczenia fizyczne, z wyjątkiem uzyskania jakiejś korzyści z tego? Ale kto ma prawo do popełnienia błędu u człowieka, który decyduje się cieszyć się przyjemnością, która nie ma denerwujących konsekwencji, lub tym, który unika bólu, który nie przynosi oczekiwanej przyjemności?\\n\"\u001b[39m +\n",
       "    \u001b[32m\"Z drugiej strony, p\"\u001b[39m,\n",
       "  key: \u001b[33m55\u001b[39m,\n",
       "  testResult: \u001b[33m8.011056658225499\u001b[39m,\n",
       "  time: \u001b[33m21.767899999395013\u001b[39m\n",
       "}"
      ]
     },
     "execution_count": 206,
     "metadata": {},
     "output_type": "execute_result"
    }
   ],
   "source": [
    "const input = `Ale muszę wam wytłumaczyć, jak narodziła się ta błędna koncepcja denuncjacji przyjemności i chwalebnego bólu, a ja dam wam kompletną relację z systemu i objaśnię prawdziwe nauki wielkiego odkrywcy prawdy, mistrza-budowniczego ludzkiego szczęścia. Nikt nie odrzuca, nie lubi lub unika przyjemności samej w sobie, ponieważ jest to przyjemność, ale dlatego, że ci, którzy nie wiedzą, jak dążyć do przyjemności, racjonalnie napotykają konsekwencje, które są niezwykle bolesne. I znowu nie ma kogoś, kto kocha lub dąży albo pragnie osiągnąć ból sam z siebie, ponieważ jest to ból, ale czasami pojawiają się okoliczności, w których trud i ból mogą przynieść mu wielką przyjemność. Aby wziąć trywialny przykład, który z nas kiedykolwiek podejmuje żmudne ćwiczenia fizyczne, z wyjątkiem uzyskania jakiejś korzyści z tego? Ale kto ma prawo do popełnienia błędu u człowieka, który decyduje się cieszyć się przyjemnością, która nie ma denerwujących konsekwencji, lub tym, który unika bólu, który nie przynosi oczekiwanej przyjemności?\n",
    "Z drugiej strony, p`;\n",
    "\n",
    "crackBruteForce(encrypt(input, 55));"
   ]
  }
 ],
 "metadata": {
  "kernelspec": {
   "display_name": "Deno",
   "language": "typescript",
   "name": "deno"
  },
  "language_info": {
   "codemirror_mode": "typescript",
   "file_extension": ".ts",
   "mimetype": "text/x.typescript",
   "name": "typescript",
   "nbconvert_exporter": "script",
   "pygments_lexer": "typescript",
   "version": "5.5.2"
  }
 },
 "nbformat": 4,
 "nbformat_minor": 2
}
