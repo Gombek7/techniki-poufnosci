{
 "cells": [
  {
   "cell_type": "markdown",
   "metadata": {},
   "source": [
    "# Szyfrowanie + kompresja\n",
    "Najnowsza wersja sprawozdania jest dostępna pod adresem: [https://github.com/Gombek7/techniki-poufnosci/blob/main/Konfiguracja tunelu VPN/sprawozdanie.md](https://github.com/Gombek7/techniki-poufnosci/blob/main/Konfiguracja%20tunelu%20VPN/sprawozdanie.md)\n",
    "\n",
    "Członkowie zespołu:\n",
    "- Jarosław Dakowicz\n",
    "- Piotr Kozioł\n",
    "\n",
    "## Instalacja środowiska\n",
    "\n",
    "Sprawozdanie zostało napisane w notatniku Jupyter z użyciem jądra Deno, które pozwala na wykonywanie kodu w języku TypeScript zamiast w Pythonie.\n",
    "\n",
    "Najpierw neleży zainstalować Deno. Należy uruchomić poniższą komendę w powershell.\n",
    "\n",
    "```powershell\n",
    "irm https://deno.land/install.ps1 | iex\n",
    "```\n",
    "\n",
    "Następnie, aby zainstalować jądro, należy użyć poniższej komendy.\n",
    "```powershell\n",
    "deno jupyter --install\n",
    "```\n",
    "\n",
    "Od teraz podczas edycji notatnika Jupyter w Visual Studio Code można wybrać jądro Deno.\n",
    "\n",
    "## Zadanie 1 - własny algrytm szyfrowania/deszyfrowania\n",
    "\n",
    "Wybrany algorytm to szyfr Cezara.\n",
    "\n",
    "### Szyfrator i deszyfrator\n",
    "\n",
    "Najpierw został zdefiniowany alfabet, czyli zestaw znaków obsługiwanych przez nasz algorytm."
   ]
  },
  {
   "cell_type": "code",
   "execution_count": 9,
   "metadata": {},
   "outputs": [],
   "source": [
    "const ALPHABET = \"AĄBCĆDEĘFGHIJKLŁMNŃOÓPRSŚTUVWXYZŹŻaąbcćdeęfghijklłmnńoóprsśtuvwxyzźż\\b\\t\\n\\f\\r !\\\"#$%&'()*+,-./0123456789:;<=>?@[\\\\]^`{|}~\""
   ]
  },
  {
   "cell_type": "markdown",
   "metadata": {},
   "source": [
    "Następnie została napisana funkcja szyfrująca `encrypt`."
   ]
  },
  {
   "cell_type": "code",
   "execution_count": 10,
   "metadata": {},
   "outputs": [],
   "source": [
    "function encrypt(input: string, key: number): string\n",
    "{\n",
    "    const output: string[] = [];\n",
    "    const n = ALPHABET.length; //liczba znaków w alfabecie\n",
    "    for (const char of input) {\n",
    "        const a = ALPHABET.indexOf(char); //indeks znaku do zaszyfrowania\n",
    "        const c = (a + key) % n ;         //indeks zaszyfrowanego znaku\n",
    "        output.push(ALPHABET[c]) ;        //zamiana indeksu na znak i wpisanie do wyjścia\n",
    "    }\n",
    "    return output.join(\"\");\n",
    "}"
   ]
  },
  {
   "cell_type": "markdown",
   "metadata": {},
   "source": [
    "Funkcja deszyfrująca `decrypt` jest podobna, z tą różnicą, że klucz jest odejmowany od indeksu znaku."
   ]
  },
  {
   "cell_type": "code",
   "execution_count": 63,
   "metadata": {},
   "outputs": [],
   "source": [
    "function decrypt(input: string, key: number):string\n",
    "{\n",
    "    const output: string[] = []\n",
    "    const n = ALPHABET.length //liczba znaków w alfabecie\n",
    "    for(const letter of input)\n",
    "    {\n",
    "        const c = ALPHABET.indexOf(letter) //indeks zaszyfrowanego znaku\n",
    "        const a = (c + n - key) % n        //indeks odszyfrowanego znaku\n",
    "        output.push(ALPHABET.at(a))        //zamiana indeksu na znak i wpisanie do wyjścia\n",
    "    }\n",
    "    return output.join(\"\")\n",
    "}"
   ]
  },
  {
   "cell_type": "markdown",
   "metadata": {},
   "source": [
    "Poniżej znajduje się krótki test szyfru. Podany tekst jest zaszyfrowywany losowym kluczem. Następnie odszyfrowywany prawidłowym i nieprawidłowym kluczem."
   ]
  },
  {
   "cell_type": "code",
   "execution_count": 89,
   "metadata": {},
   "outputs": [
    {
     "data": {
      "text/markdown": [
       "| **Tekst oryginalny** | Hello! This is the input! |\n",
       "| --- | --- |\n",
       "| Prawidłowy klucz | 223 |\n",
       "| Nieprawidłowy klucz | 237 |\n",
       "| **Tekst zaszyfrowany** | **\"CŻęęjżźŃcćmźćmźńcŻźćhlońż\"** |\n",
       "| Tekst odszyfrowany z nieprawidłowym kluczem | {UaadutIYZgtZgtiYUtZcęjiu |\n",
       "| **Tekst odszyfrowany z prawidłowym kluczem** | **Hello! This is the input!** |\n"
      ]
     },
     "execution_count": 89,
     "metadata": {},
     "output_type": "execute_result"
    }
   ],
   "source": [
    "import { randomIntegerBetween } from 'jsr:@std/random';\n",
    "\n",
    "const input = \"Cześć! To jest tekst oryginalny!\";\n",
    "const key = randomIntegerBetween(0, 2 * ALPHABET.length);\n",
    "const invalidKey = key + randomIntegerBetween(1, Math.ceil(ALPHABET.length / 2));\n",
    "\n",
    "const encrypted = encrypt(input, key);\n",
    "const decryptedInvalid = decrypt(encrypted, invalidKey);\n",
    "const decryptedValid = decrypt(encrypted, key);\n",
    "\n",
    "Deno.jupyter.md`| **Tekst oryginalny** | ${input} |\n",
    "| --- | --- |\n",
    "| Prawidłowy klucz | ${key} |\n",
    "| Nieprawidłowy klucz | ${invalidKey} |\n",
    "| **Tekst zaszyfrowany** | **${JSON.stringify(encrypted)}** |\n",
    "| Tekst odszyfrowany z nieprawidłowym kluczem | ${decryptedInvalid} |\n",
    "| **Tekst odszyfrowany z prawidłowym kluczem** | **${decryptedValid}** |\n",
    "`"
   ]
  },
  {
   "cell_type": "markdown",
   "metadata": {},
   "source": [
    "## Łamanie metodą brute force\n",
    "\n",
    "Przypuśćmy, że atakujący wie, że zna alfabet, w którym została napisana wiadomość. Może go uzyskać poprzez przechwycenie kilku zaszyfrowanych wiadomości. Atakujący może z łatwością znaleźć wszystkie możliwe odszyfrowane wiadomości, jednak problemem może być rozpoznanie prawidłowej wiadomości. Jednym ze soposobów jest dopasowanie częstości liter do języka, w którym zostana napisana wiadomość."
   ]
  },
  {
   "cell_type": "markdown",
   "metadata": {},
   "source": []
  }
 ],
 "metadata": {
  "kernelspec": {
   "display_name": "Deno",
   "language": "typescript",
   "name": "deno"
  },
  "language_info": {
   "codemirror_mode": "typescript",
   "file_extension": ".ts",
   "mimetype": "text/x.typescript",
   "name": "typescript",
   "nbconvert_exporter": "script",
   "pygments_lexer": "typescript",
   "version": "5.5.2"
  }
 },
 "nbformat": 4,
 "nbformat_minor": 2
}
