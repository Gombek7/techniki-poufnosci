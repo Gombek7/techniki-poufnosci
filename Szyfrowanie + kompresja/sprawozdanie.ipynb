{
 "cells": [
  {
   "cell_type": "markdown",
   "metadata": {},
   "source": [
    "# Szyfrowanie + kompresja\n",
    "Najnowsza wersja sprawozdania jest dostępna pod adresem: [https://github.com/Gombek7/techniki-poufnosci/blob/main/Konfiguracja tunelu VPN/sprawozdanie.md](https://github.com/Gombek7/techniki-poufnosci/blob/main/Konfiguracja%20tunelu%20VPN/sprawozdanie.md)\n",
    "\n",
    "Członkowie zespołu:\n",
    "- Jarosław Dakowicz\n",
    "- Piotr Kozioł\n",
    "- Anton Maisiuk\n",
    "\n",
    "## Instalacja środowiska\n",
    "\n",
    "Sprawozdanie zostało napisane w notatniku Jupyter z użyciem jądra Deno, które pozwala na wykonywanie kodu w języku TypeScript zamiast w Pythonie.\n",
    "\n",
    "Najpierw neleży zainstalować Deno. Należy uruchomić poniższą komendę w powershell.\n",
    "\n",
    "```powershell\n",
    "irm https://deno.land/install.ps1 | iex\n",
    "```\n",
    "\n",
    "Następnie, aby zainstalować jądro, należy użyć poniższej komendy.\n",
    "```powershell\n",
    "deno jupyter --install\n",
    "```\n",
    "\n",
    "Od teraz podczas edycji notatnika Jupyter w Visual Studio Code można wybrać jądro Deno.\n",
    "\n",
    "## Zadanie 1 - własny algorytm szyfrowania/deszyfrowania\n",
    "\n",
    "Wybrany algorytm to szyfr Cezara.\n",
    "\n",
    "### Szyfrator i deszyfrator\n",
    "\n",
    "Najpierw został zdefiniowany alfabet, czyli zestaw znaków obsługiwanych przez nasz algorytm."
   ]
  },
  {
   "cell_type": "code",
   "execution_count": 2,
   "metadata": {},
   "outputs": [],
   "source": [
    "const ALPHABET = \"AĄBCĆDEĘFGHIJKLŁMNŃOÓPRSŚTUVWXYZŹŻaąbcćdeęfghijklłmnńoóprsśtuvwxyzźż\\b\\t\\n\\f\\r !\\\"%'()*+,-.:?\"\n",
    "// const ALPHABET = \"AĄBCĆDEĘFGHIJKLŁMNŃOÓPRSŚTUVWXYZŹŻaąbcćdeęfghijklłmnńoóprsśtuvwxyzźż\\b\\t\\n\\f\\r !\\\"#$%&'()*+,-./0123456789:;<=>?@[\\\\]^`{|}~\""
   ]
  },
  {
   "cell_type": "markdown",
   "metadata": {},
   "source": [
    "Następnie została napisana funkcja szyfrująca `encrypt`."
   ]
  },
  {
   "cell_type": "code",
   "execution_count": 3,
   "metadata": {},
   "outputs": [],
   "source": [
    "function encrypt(input: string, key: number): string\n",
    "{\n",
    "    const output: string[] = [];\n",
    "    const n = ALPHABET.length; //liczba znaków w alfabecie\n",
    "    for (const char of input) {\n",
    "        const a = ALPHABET.indexOf(char); //indeks znaku do zaszyfrowania\n",
    "        const c = (a + key) % n ;         //indeks zaszyfrowanego znaku\n",
    "        output.push(ALPHABET[c]) ;        //zamiana indeksu na znak i wpisanie do wyjścia\n",
    "    }\n",
    "    return output.join(\"\");\n",
    "}"
   ]
  },
  {
   "cell_type": "markdown",
   "metadata": {},
   "source": [
    "Funkcja deszyfrująca `decrypt` jest podobna, z tą różnicą, że klucz jest odejmowany od indeksu znaku."
   ]
  },
  {
   "cell_type": "code",
   "execution_count": 4,
   "metadata": {},
   "outputs": [],
   "source": [
    "function decrypt(input: string, key: number):string\n",
    "{\n",
    "    const output: string[] = []\n",
    "    const n = ALPHABET.length //liczba znaków w alfabecie\n",
    "    for(const letter of input)\n",
    "    {\n",
    "        const c = ALPHABET.indexOf(letter) //indeks zaszyfrowanego znaku\n",
    "        const a = (c + n - key) % n        //indeks odszyfrowanego znaku\n",
    "        output.push(ALPHABET.at(a))        //zamiana indeksu na znak i wpisanie do wyjścia\n",
    "    }\n",
    "    return output.join(\"\")\n",
    "}"
   ]
  },
  {
   "cell_type": "markdown",
   "metadata": {},
   "source": [
    "Poniżej znajduje się krótki test szyfru. Podany tekst jest zaszyfrowywany losowym kluczem. Następnie odszyfrowywany prawidłowym i nieprawidłowym kluczem."
   ]
  },
  {
   "cell_type": "code",
   "execution_count": 5,
   "metadata": {},
   "outputs": [
    {
     "data": {
      "text/markdown": [
       "| **Tekst oryginalny** | Cześć! To jest tekst oryginalny! |\n",
       "| --- | --- |\n",
       "| Prawidłowy klucz | 36 |\n",
       "| Nieprawidłowy klucz | 48 |\n",
       "| **Tekst zaszyfrowany** | **\"dL%Ę!SRvBR,%EFRF%-EFRBDK)+A\\n.AKS\"** |\n",
       "| Tekst odszyfrowany z nieprawidłowym kluczem | (oWjUwvKęvaWikvkWąikvęhńZŻdRbdńw |\n",
       "| **Tekst odszyfrowany z prawidłowym kluczem** | **Cześć! To jest tekst oryginalny!** |\n"
      ]
     },
     "execution_count": 5,
     "metadata": {},
     "output_type": "execute_result"
    }
   ],
   "source": [
    "import { randomIntegerBetween } from 'jsr:@std/random';\n",
    "\n",
    "const input = \"Cześć! To jest tekst oryginalny!\";\n",
    "const key = randomIntegerBetween(0, 2 * ALPHABET.length);\n",
    "const invalidKey = key + randomIntegerBetween(1, Math.ceil(ALPHABET.length / 2));\n",
    "\n",
    "const encrypted = encrypt(input, key);\n",
    "const decryptedInvalid = decrypt(encrypted, invalidKey);\n",
    "const decryptedValid = decrypt(encrypted, key);\n",
    "\n",
    "Deno.jupyter.md`| **Tekst oryginalny** | ${input} |\n",
    "| --- | --- |\n",
    "| Prawidłowy klucz | ${key} |\n",
    "| Nieprawidłowy klucz | ${invalidKey} |\n",
    "| **Tekst zaszyfrowany** | **${JSON.stringify(encrypted)}** |\n",
    "| Tekst odszyfrowany z nieprawidłowym kluczem | ${decryptedInvalid} |\n",
    "| **Tekst odszyfrowany z prawidłowym kluczem** | **${decryptedValid}** |\n",
    "`"
   ]
  },
  {
   "cell_type": "markdown",
   "metadata": {},
   "source": [
    "## Łamanie metodą brute force\n",
    "\n",
    "Przypuśćmy, że atakujący zna alfabet, w którym została napisana wiadomość. Może go uzyskać poprzez przechwycenie kilku zaszyfrowanych wiadomości. Atakujący może z łatwością znaleźć wszystkie możliwe odszyfrowane wiadomości, jednak problemem może być rozpoznanie prawidłowej wiadomości. Jednym ze sposobów jest sprawdzenie stopnia dopasowania częstości liter do języka, w którym została napisana wiadomość.\n",
    "\n",
    "Częstości liter w tekście napisanym języku polskim jest nastepująca (źródło: [https://commons.wikimedia.org/wiki/File:Polish_letters_frequencies.svg](https://commons.wikimedia.org/wiki/File:Polish_letters_frequencies.svg)):"
   ]
  },
  {
   "cell_type": "code",
   "execution_count": 6,
   "metadata": {},
   "outputs": [],
   "source": [
    "const letterFrequencies = {\n",
    "    'a': 8.91,\n",
    "    'ą': 0.99,\n",
    "    'b': 1.47,\n",
    "    'c': 3.96,\n",
    "    'ć': 0.40,\n",
    "    'd': 3.25,\n",
    "    'e': 7.66,\n",
    "    'ę': 1.11,\n",
    "    'f': 0.30,\n",
    "    'g': 1.42,\n",
    "    'h': 1.08,\n",
    "    'i': 8.21,\n",
    "    'j': 2.28,\n",
    "    'k': 3.51,\n",
    "    'l': 2.10,\n",
    "    'ł': 1.82,\n",
    "    'm': 2.80,\n",
    "    'n': 5.52,\n",
    "    'ń': 0.20,\n",
    "    'o': 7.75,\n",
    "    'ó': 0.85,\n",
    "    'p': 3.13,\n",
    "    'r': 4.69,\n",
    "    's': 4.32,\n",
    "    'ś': 1.42,\n",
    "    't': 3.98,\n",
    "    'u': 2.50,\n",
    "    'w': 4.65,\n",
    "    'y': 3.76,\n",
    "    'z': 5.64,\n",
    "    'ź': 0.06,\n",
    "    'ż': 0.83\n",
    "  };"
   ]
  },
  {
   "cell_type": "markdown",
   "metadata": {},
   "source": [
    "W kryptoanalizie przydatna będzie funkcja zliczająca częstość występowania liter w podanym tekście."
   ]
  },
  {
   "cell_type": "code",
   "execution_count": 7,
   "metadata": {},
   "outputs": [],
   "source": [
    "function getLetterFrequencies(text: string) {\n",
    "    const output: Record<string, number> = {};\n",
    "    for (const letter of text) {\n",
    "        const lowerLetter = letter.toLowerCase();\n",
    "        output[lowerLetter] = output[lowerLetter] ? output[lowerLetter] + 1 : 1;\n",
    "    }\n",
    "    const sum = Object.values(output).reduce((a,b) => a + b, 0);\n",
    "    for (const letter of Object.keys(output)) {\n",
    "        output[letter] = output[letter] * 100 / sum;\n",
    "    }\n",
    "    return output;\n",
    "}"
   ]
  },
  {
   "cell_type": "markdown",
   "metadata": {},
   "source": [
    "Konieczne będzie także znormalizowanie porównywanych częstotliwości tak, aby zawierały te same litery."
   ]
  },
  {
   "cell_type": "code",
   "execution_count": 8,
   "metadata": {},
   "outputs": [],
   "source": [
    "function normalizeFrequencies(frequencies1: Record<string, number>, frequencies2: Record<string, number>) {\n",
    "    const lettersSet1 = new Set(Object.keys(frequencies1));\n",
    "    const lettersSet2 = new Set(Object.keys(frequencies2));\n",
    "    const commonLetters: Set<string> = lettersSet1.intersection(lettersSet2);\n",
    "\n",
    "    let entries1 = Object.entries(frequencies1).filter(([key, value]) => commonLetters.has(key));\n",
    "    const sum1 = entries1.reduce((a, b) => a + b[1], 0);\n",
    "    entries1 = entries1.map(([key, value]) => ([key, value/sum1 * 100]))\n",
    "    const result1 = Object.fromEntries(entries1);\n",
    "\n",
    "    let entries2 = Object.entries(frequencies2).filter(([key, value]) => commonLetters.has(key));\n",
    "    const sum2 = entries2.reduce((a, b) => a + b[1], 0);\n",
    "    entries2 = entries2.map(([key, value]) => ([key, value/sum2 * 100]))\n",
    "    const result2 = Object.fromEntries(entries2);\n",
    "\n",
    "    return [result1, result2];\n",
    "}"
   ]
  },
  {
   "cell_type": "markdown",
   "metadata": {},
   "source": [
    "Do sprawdzenia w jakim stopniu rozkład częstości w próbie odpowiada rozkładowi oczekiwanemu można użyć testu zgodności chi-kwadrat. Im większa różnica, tym większa będzie wartość chi-kwadrat."
   ]
  },
  {
   "cell_type": "code",
   "execution_count": 9,
   "metadata": {},
   "outputs": [
    {
     "data": {
      "text/plain": [
       "\u001b[33m18.992119645432787\u001b[39m"
      ]
     },
     "execution_count": 9,
     "metadata": {},
     "output_type": "execute_result"
    }
   ],
   "source": [
    "function chiSquaredTest(measuredFrequencies: Record<string, number>, expectedFrequencies: Record<string, number>) {\n",
    "    let result = 0;\n",
    "    Object.entries(measuredFrequencies).forEach(([letter, measuredValue]) => {\n",
    "        const expectedValue = expectedFrequencies[letter];\n",
    "        if (expectedValue == undefined) return;\n",
    "        result += (((measuredValue - expectedValue) ** 2) / expectedValue);\n",
    "    })\n",
    "    return result\n",
    "};\n",
    "\n",
    "chiSquaredTest(getLetterFrequencies(\"W kryptoanalizie przydatna będzie funkcja zlicząjąca częstotliwość liter w podanym tekście.\"),letterFrequencies)"
   ]
  },
  {
   "cell_type": "markdown",
   "metadata": {},
   "source": [
    "Teraz mamy wszystko, aby napisać funkcję łamiącą wiadomość metodą brute-force."
   ]
  },
  {
   "cell_type": "code",
   "execution_count": 10,
   "metadata": {},
   "outputs": [],
   "source": [
    "function crackBruteForce(encryptedText: string) {\n",
    "    const t0 = performance.now()\n",
    "\n",
    "    const crackedCandidates: string[] = [];\n",
    "    for( let i=0; i < ALPHABET.length; i++) {\n",
    "        crackedCandidates.push(decrypt(encryptedText, i))\n",
    "    }\n",
    "\n",
    "    const testResults = crackedCandidates.map(cracked => {\n",
    "        const crackedLettersFrequencies = getLetterFrequencies(cracked);\n",
    "        const [normalizedCrackedLettersFrequencies, normalizedLetterFrequencies] = normalizeFrequencies(crackedLettersFrequencies, letterFrequencies);\n",
    "        return chiSquaredTest(normalizedCrackedLettersFrequencies, normalizedLetterFrequencies);\n",
    "    })\n",
    "\n",
    "    let min = testResults[0];\n",
    "    let minIndex = 0;\n",
    "\n",
    "    testResults.forEach((result, index) => {\n",
    "        if (result < min) {\n",
    "            min = result;\n",
    "            minIndex = index;\n",
    "        }\n",
    "    })\n",
    "\n",
    "    const t1 = performance.now()\n",
    "\n",
    "    return {\n",
    "        originalMessage: crackedCandidates[minIndex],\n",
    "        key: minIndex,\n",
    "        testResult: testResults[minIndex],\n",
    "        time: t1 - t0,\n",
    "    }\n",
    "}"
   ]
  },
  {
   "cell_type": "code",
   "execution_count": 11,
   "metadata": {},
   "outputs": [
    {
     "data": {
      "text/plain": [
       "{\n",
       "  originalMessage: \u001b[32m\"Ale muszę wam wytłumaczyć, jak narodziła się ta błędna koncepcja denuncjacji przyjemności i chwalebnego bólu, a ja dam wam kompletną relację z systemu i objaśnię prawdziwe nauki wielkiego odkrywcy prawdy, mistrza-budowniczego ludzkiego szczęścia. Nikt nie odrzuca, nie lubi lub unika przyjemności samej w sobie, ponieważ jest to przyjemność, ale dlatego, że ci, którzy nie wiedzą, jak dążyć do przyjemności, racjonalnie napotykają konsekwencje, które są niezwykle bolesne. I znowu nie ma kogoś, kto kocha lub dąży albo pragnie osiągnąć ból sam z siebie, ponieważ jest to ból, ale czasami pojawiają się okoliczności, w których trud i ból mogą przynieść mu wielką przyjemność. Aby wziąć trywialny przykład, który z nas kiedykolwiek podejmuje żmudne ćwiczenia fizyczne, z wyjątkiem uzyskania jakiejś korzyści z tego? Ale kto ma prawo do popełnienia błędu u człowieka, który decyduje się cieszyć się przyjemnością, która nie ma denerwujących konsekwencji, lub tym, który unika bólu, który nie przynosi oczekiwanej przyjemności?\\n\"\u001b[39m +\n",
       "    \u001b[32m\"Z drugiej strony, p\"\u001b[39m,\n",
       "  key: \u001b[33m55\u001b[39m,\n",
       "  testResult: \u001b[33m8.011056658225499\u001b[39m,\n",
       "  time: \u001b[33m27.48370000000068\u001b[39m\n",
       "}"
      ]
     },
     "execution_count": 11,
     "metadata": {},
     "output_type": "execute_result"
    }
   ],
   "source": [
    "const input = `Ale muszę wam wytłumaczyć, jak narodziła się ta błędna koncepcja denuncjacji przyjemności i chwalebnego bólu, a ja dam wam kompletną relację z systemu i objaśnię prawdziwe nauki wielkiego odkrywcy prawdy, mistrza-budowniczego ludzkiego szczęścia. Nikt nie odrzuca, nie lubi lub unika przyjemności samej w sobie, ponieważ jest to przyjemność, ale dlatego, że ci, którzy nie wiedzą, jak dążyć do przyjemności, racjonalnie napotykają konsekwencje, które są niezwykle bolesne. I znowu nie ma kogoś, kto kocha lub dąży albo pragnie osiągnąć ból sam z siebie, ponieważ jest to ból, ale czasami pojawiają się okoliczności, w których trud i ból mogą przynieść mu wielką przyjemność. Aby wziąć trywialny przykład, który z nas kiedykolwiek podejmuje żmudne ćwiczenia fizyczne, z wyjątkiem uzyskania jakiejś korzyści z tego? Ale kto ma prawo do popełnienia błędu u człowieka, który decyduje się cieszyć się przyjemnością, która nie ma denerwujących konsekwencji, lub tym, który unika bólu, który nie przynosi oczekiwanej przyjemności?\n",
    "Z drugiej strony, p`;\n",
    "\n",
    "crackBruteForce(encrypt(input, 55));"
   ]
  },
  {
   "cell_type": "markdown",
   "metadata": {},
   "source": [
    "### Badanie zależności czasu łamania od parametrów szyratora\n",
    "\n",
    "Napisany system łamania klucza sprawdza wszystkie możliwe klucze i wybiera najbardziej prawdopodobną odpowiedź. Dlatego niezależnie od klucza, czas łamania będzie taki sam. W zamian zostanie zbadany czas i trafność wyników w zależności od długości wiadomości.\n",
    "\n",
    "Zdefniujmy 5 dłuższych tekstów i sprawdźmy rezultaty dla różnych długości wiadomości."
   ]
  },
  {
   "cell_type": "code",
   "execution_count": 12,
   "metadata": {},
   "outputs": [],
   "source": [
    "const messages = [\n",
    "    'Litwo! Ojczyzno moja! ty jesteś jak zdrowie. Ile cię trzeba cenić, ten tylko się dowie, Kto cię stracił. Dziś piękność twą w całej ozdobie Widzę i opisuję, bo tęsknię po tobie. Panno Święta, co Jasnej bronisz Częstochowy I w Ostrej świecisz Bramie! Ty, co gród zamkowy Nowogródzki ochraniasz z jego wiernym ludem! Jak mnie dziecko do zdrowia powróciłaś cudem (Gdy od płaczącej matki pod Twoję opiekę Ofiarowany, martwą podniosłem powiekę I zaraz mogłem pieszo do Twych świątyń progu Iść za wrócone ży',\n",
    "    \"Ale muszę wam wytłumaczyć, jak narodziła się ta błędna koncepcja denuncjacji przyjemności i chwalebnego bólu, a ja dam wam kompletną relację z systemu i objaśnię prawdziwe nauki wielkiego odkrywcy prawdy, mistrza-budowniczego ludzkiego szczęścia. Nikt nie odrzuca, nie lubi lub unika przyjemności samej w sobie, ponieważ jest to przyjemność, ale dlatego, że ci, którzy nie wiedzą, jak dążyć do przyjemności, racjonalnie napotykają konsekwencje, które są niezwykle bolesne. I znowu nie ma kogoś, kto k\",\n",
    "    \"Kocha lub dąży albo pragnie osiągnąć ból sam z siebie, ponieważ jest to ból, ale czasami pojawiają się okoliczności, w których trud i ból mogą przynieść mu wielką przyjemność. Aby wziąć trywialny przykład, który z nas kiedykolwiek podejmuje żmudne ćwiczenia fizyczne, z wyjątkiem uzyskania jakiejś korzyści z tego? Ale kto ma prawo do popełnienia błędu u człowieka, który decyduje się cieszyć się przyjemnością, która nie ma denerwujących konsekwencji, lub tym, który unika bólu, który nie przynosi o\",\n",
    "    \"Z drugiej strony, potępiamy z prawym oburzeniem i niechęcią ludzi, którzy są tak zniewoleni i zdemoralizowani urokami przyjemności chwili, tak zaślepieni pożądaniem, że nie mogą przewidzieć bólu i kłopotów, które są związane; a jednakowa wina należy do tych, którzy zawodzą w swoich obowiązkach przez słabość woli, która jest tym samym, co mówienie przez kurczenie się od trudów i bólu. Te przypadki są całkowicie proste i łatwe do rozróżnienia. W wolnej godzinie, kiedy nasza moc wyboru jest nieskrę\",\n",
    "    \"Nieskrępowana i gdy nic nie stoi na przeszkodzie, abyśmy mogli robić to, co lubimy najbardziej, każda przyjemność powinna być przyjmowana z zadowoleniem, a każdy ból unikany. Jednak w pewnych okolicznościach i z powodu roszczeń wynikających z obowiązków lub obowiązków biznesowych, często zdarza się, że przyjemności muszą zostać odrzucone, a uciążliwości zaakceptowane. Mądry człowiek zatem zawsze trzyma się w tych sprawach tej zasady selekcji: odrzuca przyjemności, aby zabezpieczyć inne, większe \"\n",
    "\n",
    "]\n",
    "\n",
    "const lengths = [5, 10, 20, 30, 40, 50, 70, 100, 200, 300, 400, 500]\n",
    "const encrytpionKey = 15;\n",
    "\n",
    "const results = Object.fromEntries(lengths.map((n => ([n, messages.map(message => crackBruteForce(encrypt(message.substring(0, n), encrytpionKey)))]))));"
   ]
  },
  {
   "cell_type": "markdown",
   "metadata": {},
   "source": [
    "Poniżej zotanie narysowany wykres ze wskaźnikiem skuteczności w zależności od długości wiadomości."
   ]
  },
  {
   "cell_type": "code",
   "execution_count": 21,
   "metadata": {},
   "outputs": [
    {
     "data": {
      "image/svg+xml": [
       "<svg style=\"color:black\" viewBox=\"0 0 640 400\" height=\"400\" width=\"640\" text-anchor=\"middle\" font-size=\"10\" font-family=\"system-ui, sans-serif\" fill=\"currentColor\" class=\"plot-d6a7b5\"><style>:where(.plot-d6a7b5) {\n",
       "  --plot-background: white;\n",
       "  display: block;\n",
       "  height: auto;\n",
       "  height: intrinsic;\n",
       "  max-width: 100%;\n",
       "}\n",
       ":where(.plot-d6a7b5 text),\n",
       ":where(.plot-d6a7b5 tspan) {\n",
       "  white-space: pre;\n",
       "}</style><g stroke-opacity=\"0.1\" stroke=\"currentColor\" aria-hidden=\"true\" aria-label=\"y-grid\"><line y2=\"370\" y1=\"370\" x2=\"620\" x1=\"40\" /><line y2=\"335\" y1=\"335\" x2=\"620\" x1=\"40\" /><line y2=\"300\" y1=\"300\" x2=\"620\" x1=\"40\" /><line y2=\"265\" y1=\"265\" x2=\"620\" x1=\"40\" /><line y2=\"230\" y1=\"230\" x2=\"620\" x1=\"40\" /><line y2=\"195\" y1=\"195\" x2=\"620\" x1=\"40\" /><line y2=\"160\" y1=\"160\" x2=\"620\" x1=\"40\" /><line y2=\"125.00000000000001\" y1=\"125.00000000000001\" x2=\"620\" x1=\"40\" /><line y2=\"89.99999999999999\" y1=\"89.99999999999999\" x2=\"620\" x1=\"40\" /><line y2=\"54.99999999999999\" y1=\"54.99999999999999\" x2=\"620\" x1=\"40\" /><line y2=\"20\" y1=\"20\" x2=\"620\" x1=\"40\" /></g><g stroke=\"currentColor\" fill=\"none\" aria-hidden=\"true\" aria-label=\"y-axis tick\"><path d=\"M0,0L-6,0\" transform=\"translate(40,370)\" /><path d=\"M0,0L-6,0\" transform=\"translate(40,335)\" /><path d=\"M0,0L-6,0\" transform=\"translate(40,300)\" /><path d=\"M0,0L-6,0\" transform=\"translate(40,265)\" /><path d=\"M0,0L-6,0\" transform=\"translate(40,230)\" /><path d=\"M0,0L-6,0\" transform=\"translate(40,195)\" /><path d=\"M0,0L-6,0\" transform=\"translate(40,160)\" /><path d=\"M0,0L-6,0\" transform=\"translate(40,125.00000000000001)\" /><path d=\"M0,0L-6,0\" transform=\"translate(40,89.99999999999999)\" /><path d=\"M0,0L-6,0\" transform=\"translate(40,54.99999999999999)\" /><path d=\"M0,0L-6,0\" transform=\"translate(40,20)\" /></g><g transform=\"translate(-9,0)\" font-variant=\"tabular-nums\" text-anchor=\"end\" aria-label=\"y-axis tick label\"><text transform=\"translate(40,370)\" y=\"0.32em\">0%</text><text transform=\"translate(40,335)\" y=\"0.32em\">10%</text><text transform=\"translate(40,300)\" y=\"0.32em\">20%</text><text transform=\"translate(40,265)\" y=\"0.32em\">30%</text><text transform=\"translate(40,230)\" y=\"0.32em\">40%</text><text transform=\"translate(40,195)\" y=\"0.32em\">50%</text><text transform=\"translate(40,160)\" y=\"0.32em\">60%</text><text transform=\"translate(40,125.00000000000001)\" y=\"0.32em\">70%</text><text transform=\"translate(40,89.99999999999999)\" y=\"0.32em\">80%</text><text transform=\"translate(40,54.99999999999999)\" y=\"0.32em\">90%</text><text transform=\"translate(40,20)\" y=\"0.32em\">100%</text></g><g transform=\"translate(-37,-17)\" text-anchor=\"start\" aria-label=\"y-axis label\"><text transform=\"translate(40,20)\" y=\"0.71em\">↑ Skuteczność</text></g><g stroke=\"currentColor\" fill=\"none\" aria-hidden=\"true\" aria-label=\"x-axis tick\"><path d=\"M0,0L0,6\" transform=\"translate(92.72727272727272,370)\" /><path d=\"M0,0L0,6\" transform=\"translate(151.3131313131313,370)\" /><path d=\"M0,0L0,6\" transform=\"translate(209.8989898989899,370)\" /><path d=\"M0,0L0,6\" transform=\"translate(268.48484848484844,370)\" /><path d=\"M0,0L0,6\" transform=\"translate(327.0707070707071,370)\" /><path d=\"M0,0L0,6\" transform=\"translate(385.65656565656565,370)\" /><path d=\"M0,0L0,6\" transform=\"translate(444.24242424242425,370)\" /><path d=\"M0,0L0,6\" transform=\"translate(502.82828282828285,370)\" /><path d=\"M0,0L0,6\" transform=\"translate(561.4141414141415,370)\" /><path d=\"M0,0L0,6\" transform=\"translate(620,370)\" /></g><g transform=\"translate(0,9)\" font-variant=\"tabular-nums\" aria-label=\"x-axis tick label\"><text transform=\"translate(92.72727272727272,370)\" y=\"0.71em\">50</text><text transform=\"translate(151.3131313131313,370)\" y=\"0.71em\">100</text><text transform=\"translate(209.8989898989899,370)\" y=\"0.71em\">150</text><text transform=\"translate(268.48484848484844,370)\" y=\"0.71em\">200</text><text transform=\"translate(327.0707070707071,370)\" y=\"0.71em\">250</text><text transform=\"translate(385.65656565656565,370)\" y=\"0.71em\">300</text><text transform=\"translate(444.24242424242425,370)\" y=\"0.71em\">350</text><text transform=\"translate(502.82828282828285,370)\" y=\"0.71em\">400</text><text transform=\"translate(561.4141414141415,370)\" y=\"0.71em\">450</text><text transform=\"translate(620,370)\" y=\"0.71em\">500</text></g><g transform=\"translate(17,27)\" text-anchor=\"end\" aria-label=\"x-axis label\"><text transform=\"translate(620,370)\">Długość wiadomości →</text></g><g stroke-linecap=\"round\" stroke-linejoin=\"round\" stroke-width=\"1.5\" stroke=\"steelblue\" fill=\"none\" aria-label=\"line\"><path d=\"M40,370L45.859,370L57.576,300L69.293,160L81.01,230L92.727,90L116.162,90L151.313,20L268.485,20L385.657,20L502.828,20L620,20\" /></g></svg>"
      ]
     },
     "metadata": {},
     "output_type": "display_data"
    }
   ],
   "source": [
    "\n",
    "import { document, penguins } from \"jsr:@ry/jupyter-helper\";\n",
    "import * as Plot from \"npm:@observablehq/plot\"\n",
    "\n",
    "const successRates = Object.entries(results).map(([key, results]) => {\n",
    "    const successesCount = results.reduce((acc, result) => result.key === encrytpionKey ? acc + 1 : acc, 0);\n",
    "    const successRate = (successesCount / results.length) * 100;\n",
    "    return {\n",
    "        \"Długość wiadomości\": parseInt(key),\n",
    "        \"Skuteczność\": successRate\n",
    "    };\n",
    "})\n",
    "\n",
    "await Deno.jupyter.display(\n",
    "    Plot.plot({\n",
    "        document,\n",
    "        style: {\n",
    "            color: 'black'\n",
    "        },\n",
    "        y: { grid: true, tickFormat: n => `${n}%`},\n",
    "        marks: [Plot.line(successRates, { x: \"Długość wiadomości\", y: \"Skuteczność\", stroke: \"steelblue\"})]\n",
    "    })\n",
    ")"
   ]
  },
  {
   "cell_type": "markdown",
   "metadata": {},
   "source": [
    "Już przy 100 znakach wszyzstkie wiadomości zostały poprawnie odszyfrowane. Dla krótszych wiadomości można posortować rezultaty od najbardziej prawdopodobnych wiadomości i dokonać wyboru ręcznie lub użyć modelu językowego.\n",
    "\n",
    "Poniżej zotanie narysowany średni czas łamania klucza w zależności od długości wiadomości."
   ]
  },
  {
   "cell_type": "code",
   "execution_count": 24,
   "metadata": {},
   "outputs": [
    {
     "data": {
      "image/svg+xml": [
       "<svg style=\"color:black\" viewBox=\"0 0 640 400\" height=\"400\" width=\"640\" text-anchor=\"middle\" font-size=\"10\" font-family=\"system-ui, sans-serif\" fill=\"currentColor\" class=\"plot-d6a7b5\"><style>:where(.plot-d6a7b5) {\n",
       "  --plot-background: white;\n",
       "  display: block;\n",
       "  height: auto;\n",
       "  height: intrinsic;\n",
       "  max-width: 100%;\n",
       "}\n",
       ":where(.plot-d6a7b5 text),\n",
       ":where(.plot-d6a7b5 tspan) {\n",
       "  white-space: pre;\n",
       "}</style><g stroke-opacity=\"0.1\" stroke=\"currentColor\" aria-hidden=\"true\" aria-label=\"y-grid\"><line y2=\"342.06049814188543\" y1=\"342.06049814188543\" x2=\"620\" x1=\"40\" /><line y2=\"299.01970284636434\" y1=\"299.01970284636434\" x2=\"620\" x1=\"40\" /><line y2=\"255.9789075508432\" y1=\"255.9789075508432\" x2=\"620\" x1=\"40\" /><line y2=\"212.93811225532204\" y1=\"212.93811225532204\" x2=\"620\" x1=\"40\" /><line y2=\"169.89731695980092\" y1=\"169.89731695980092\" x2=\"620\" x1=\"40\" /><line y2=\"126.85652166427977\" y1=\"126.85652166427977\" x2=\"620\" x1=\"40\" /><line y2=\"83.81572636875863\" y1=\"83.81572636875863\" x2=\"620\" x1=\"40\" /><line y2=\"40.77493107323749\" y1=\"40.77493107323749\" x2=\"620\" x1=\"40\" /></g><g stroke=\"currentColor\" fill=\"none\" aria-hidden=\"true\" aria-label=\"y-axis tick\"><path d=\"M0,0L-6,0\" transform=\"translate(40,342.06049814188543)\" /><path d=\"M0,0L-6,0\" transform=\"translate(40,299.01970284636434)\" /><path d=\"M0,0L-6,0\" transform=\"translate(40,255.9789075508432)\" /><path d=\"M0,0L-6,0\" transform=\"translate(40,212.93811225532204)\" /><path d=\"M0,0L-6,0\" transform=\"translate(40,169.89731695980092)\" /><path d=\"M0,0L-6,0\" transform=\"translate(40,126.85652166427977)\" /><path d=\"M0,0L-6,0\" transform=\"translate(40,83.81572636875863)\" /><path d=\"M0,0L-6,0\" transform=\"translate(40,40.77493107323749)\" /></g><g transform=\"translate(-9,0)\" font-variant=\"tabular-nums\" text-anchor=\"end\" aria-label=\"y-axis tick label\"><text transform=\"translate(40,342.06049814188543)\" y=\"0.32em\">2ms</text><text transform=\"translate(40,299.01970284636434)\" y=\"0.32em\">3ms</text><text transform=\"translate(40,255.9789075508432)\" y=\"0.32em\">4ms</text><text transform=\"translate(40,212.93811225532204)\" y=\"0.32em\">5ms</text><text transform=\"translate(40,169.89731695980092)\" y=\"0.32em\">6ms</text><text transform=\"translate(40,126.85652166427977)\" y=\"0.32em\">7ms</text><text transform=\"translate(40,83.81572636875863)\" y=\"0.32em\">8ms</text><text transform=\"translate(40,40.77493107323749)\" y=\"0.32em\">9ms</text></g><g transform=\"translate(-37,-17)\" text-anchor=\"start\" aria-label=\"y-axis label\"><text transform=\"translate(40,20)\" y=\"0.71em\">↑ Średni czas łamania</text></g><g stroke=\"currentColor\" fill=\"none\" aria-hidden=\"true\" aria-label=\"x-axis tick\"><path d=\"M0,0L0,6\" transform=\"translate(92.72727272727272,370)\" /><path d=\"M0,0L0,6\" transform=\"translate(151.3131313131313,370)\" /><path d=\"M0,0L0,6\" transform=\"translate(209.8989898989899,370)\" /><path d=\"M0,0L0,6\" transform=\"translate(268.48484848484844,370)\" /><path d=\"M0,0L0,6\" transform=\"translate(327.0707070707071,370)\" /><path d=\"M0,0L0,6\" transform=\"translate(385.65656565656565,370)\" /><path d=\"M0,0L0,6\" transform=\"translate(444.24242424242425,370)\" /><path d=\"M0,0L0,6\" transform=\"translate(502.82828282828285,370)\" /><path d=\"M0,0L0,6\" transform=\"translate(561.4141414141415,370)\" /><path d=\"M0,0L0,6\" transform=\"translate(620,370)\" /></g><g transform=\"translate(0,9)\" font-variant=\"tabular-nums\" aria-label=\"x-axis tick label\"><text transform=\"translate(92.72727272727272,370)\" y=\"0.71em\">50</text><text transform=\"translate(151.3131313131313,370)\" y=\"0.71em\">100</text><text transform=\"translate(209.8989898989899,370)\" y=\"0.71em\">150</text><text transform=\"translate(268.48484848484844,370)\" y=\"0.71em\">200</text><text transform=\"translate(327.0707070707071,370)\" y=\"0.71em\">250</text><text transform=\"translate(385.65656565656565,370)\" y=\"0.71em\">300</text><text transform=\"translate(444.24242424242425,370)\" y=\"0.71em\">350</text><text transform=\"translate(502.82828282828285,370)\" y=\"0.71em\">400</text><text transform=\"translate(561.4141414141415,370)\" y=\"0.71em\">450</text><text transform=\"translate(620,370)\" y=\"0.71em\">500</text></g><g transform=\"translate(17,27)\" text-anchor=\"end\" aria-label=\"x-axis label\"><text transform=\"translate(620,370)\">Długość wiadomości →</text></g><g stroke-linecap=\"round\" stroke-linejoin=\"round\" stroke-width=\"1.5\" stroke=\"steelblue\" fill=\"none\" aria-label=\"line\"><path d=\"M40,370L45.859,357.884L57.576,331.063L69.293,159.123L81.01,158.986L92.727,260.214L116.162,249.31L151.313,243.754L268.485,177.275L385.657,123.514L502.828,75.462L620,20\" /></g></svg>"
      ]
     },
     "metadata": {},
     "output_type": "display_data"
    }
   ],
   "source": [
    "\n",
    "import { document, penguins } from \"jsr:@ry/jupyter-helper\";\n",
    "import * as Plot from \"npm:@observablehq/plot\"\n",
    "\n",
    "const crackTimes = Object.entries(results).map(([key, results]) => {\n",
    "    const crackTimeSum = results.reduce((acc, result) => acc + result.time, 0);\n",
    "    const crackTimeAvg = (crackTimeSum / results.length);\n",
    "    return {\n",
    "        \"Długość wiadomości\": parseInt(key),\n",
    "        \"Średni czas łamania\": crackTimeAvg\n",
    "    };\n",
    "})\n",
    "\n",
    "await Deno.jupyter.display(\n",
    "    Plot.plot({\n",
    "        document,\n",
    "        style: {\n",
    "            color: 'black'\n",
    "        },\n",
    "        y: { grid: true, tickFormat: n => `${n}ms`},\n",
    "        marks: [Plot.line(crackTimes, { x: \"Długość wiadomości\", y: \"Średni czas łamania\", stroke: \"steelblue\"})]\n",
    "    })\n",
    ")"
   ]
  },
  {
   "cell_type": "markdown",
   "metadata": {},
   "source": [
    "Od długości 50 znaków czas łamania rośnie liniowo, choć są to wciąż bardzo małe wartości. W praktyce nie warto analizować tak długich wiadomości w całości. W analizowanych przypadkach system osiągnął stuprocentową skuteczność już przy 100 znakach. Dla pewności możemy analizować np. 200 pierwszych znaków szyfrogramu.\n",
    "\n",
    "## Zadanie 2 - zabezpieczanie danych z wykorzystaniem ZIP\n",
    "\n",
    "### Zapoznaj się z narzędziem John the Ripper\n",
    "\n",
    "Instalacja John the Ripper\n",
    "\n",
    "Windows - https://www.openwall.com/john/ -> Download 1.9.0-jumbo-1 64-bit Windows 7z lub zip -> Wypakować\n",
    "\n",
    "Linux - sudo apt install john\n",
    "\n",
    "### Zbadaj możliwości odzyskiwania hasła z szyfrowanego archiwum za pomocą podanego narzędzia\n",
    "\n",
    "* Stworzenie pliku txt\n",
    "* Archiwizacja pliku z hasłem \"a$9\" \n",
    "* Obliczenie hash komendą - zip2john file.zip > hash\n",
    "* Próba odzyskania hasła komendą - john hash\n",
    "\n",
    "![img](johntest.png)\n",
    "\n",
    "\n",
    "### Oceń czas w zależności od mocy i długości hasła oraz od typu i ilości danych\n",
    "\n",
    "#### Przygotowanie danych\n",
    "\n",
    "Do badań przygotowano następujące dane testowe:\n",
    "* Plik tekstowy zawierający jeden paragraf *lorem lipsum*\n",
    "\n",
    "* Folder zawierający pliki tekstowe o łącznym rozmiarze 80MB\n",
    "* Folder zawierający pliki jpg o łącznym rozmiarze 80MB\n",
    "* Folder zawierający pliki mp4 *Lorem Lipsum* o łącznym rozmiarze 80MB\n",
    "\n",
    "* Folder zawierający pliki tekstowe o łącznym rozmiarze 470MB\n",
    "* Folder zawierający pliki jpg o łącznym rozmiarze 470MB\n",
    "* Folder zawierający pliki mp4 o łącznym rozmiarze 470MB\n",
    "\n",
    "#### Próba odzyskania hasła\n",
    "\n",
    "Jeden paragraf *lore lipsum* zaszyfrowany w trzy inne archiwa z hasłami\n",
    "* bTa - > 1s\n",
    "* o9A - > 1s\n",
    "* (b2 - > 2m 17m (z ograniczeniem długości hasła od 3 do 4 znaków)\n",
    "* 9$B - > 10m 17s (z ograniczeniem długości hasła od 3 do 5 znaków)\n",
    "\n",
    "80MB danych z hasłem (password) (z ograniczeniem długości hasła od 3 do 4 znaków)\n",
    "* Lore lipsum (b1A5) - 6s \n",
    "* Pictures (74Pa) - 24s \n",
    "* Video (94Ar) - 18s\n",
    "\n",
    "490MB danych z hasłem (password) (z ograniczeniem długości hasła od 3 do 4 znaków)\n",
    "* Lore lipsum (6o8A) - 6s \n",
    "* Pictures (Ka91) - 8s\n",
    "* Video (09zt)- 8s \n",
    "\n",
    "### Wnioski\n",
    "\n",
    "#### Wpływ długości i złożoności hasła\n",
    "Są to główne czynniki wpływające na czas odzyskania hasła. Dodanie nawet jednego dodatkowego znaku może znacząco wydłużyć czas trwania programu. To samo tyczy się używania znaków specjalnych w haśle.\n",
    "\n",
    "#### Wpływ rozmiaru i typu plików na czas odzyskiwania\n",
    "Różnice zaobserwowane przy innych typach lub rozmiarach plików można przypisać złożoności hasła oraz sposobowi, w jaki algorytm sprawdza kolejne możliwości. W takim przypadku nie byłoby znaczącej różnicy między typami plików a rozmiarem danych. Na podstawie tak małego zbioru danych oraz niejednoznacznych wyników nie jesteśmy w stanie stwierdzić, czy rozmiar i typ danych wpływają na czas odzyskiwania danych."
   ]
  }
 ],
 "metadata": {
  "kernelspec": {
   "display_name": "Deno",
   "language": "typescript",
   "name": "deno"
  },
  "language_info": {
   "codemirror_mode": "typescript",
   "file_extension": ".ts",
   "mimetype": "text/x.typescript",
   "name": "typescript",
   "nbconvert_exporter": "script",
   "pygments_lexer": "typescript",
   "version": "5.5.2"
  }
 },
 "nbformat": 4,
 "nbformat_minor": 2
}
